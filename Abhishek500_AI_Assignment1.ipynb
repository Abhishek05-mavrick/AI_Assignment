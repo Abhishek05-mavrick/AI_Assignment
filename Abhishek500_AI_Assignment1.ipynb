{
  "nbformat": 4,
  "nbformat_minor": 0,
  "metadata": {
    "colab": {
      "provenance": [],
      "authorship_tag": "ABX9TyMeTLUKC9kQ8DkL7U++cs+c",
      "include_colab_link": true
    },
    "kernelspec": {
      "name": "python3",
      "display_name": "Python 3"
    },
    "language_info": {
      "name": "python"
    }
  },
  "cells": [
    {
      "cell_type": "markdown",
      "metadata": {
        "id": "view-in-github",
        "colab_type": "text"
      },
      "source": [
        "<a href=\"https://colab.research.google.com/github/Abhishek05-mavrick/AI_Assignment/blob/main/Abhishek500_AI_Assignment1.ipynb\" target=\"_parent\"><img src=\"https://colab.research.google.com/assets/colab-badge.svg\" alt=\"Open In Colab\"/></a>"
      ]
    },
    {
      "cell_type": "code",
      "execution_count": null,
      "metadata": {
        "id": "5tJwCNDPhy4-"
      },
      "outputs": [],
      "source": [
        "import numpy as np\n",
        "import pandas as pd\n",
        "import matplotlib.pyplot as plt\n"
      ]
    },
    {
      "cell_type": "code",
      "source": [
        "#Calculate and interpret mean, median, mode, variance and standard deviation for a given dataset.\n",
        "Data =[ 15,21,29,21,15,24,32,21,15,30]\n",
        "print(np.mean(Data))\n",
        "print(np.median(Data))\n",
        "print(np.var(Data))\n",
        "print(np.std(Data))"
      ],
      "metadata": {
        "colab": {
          "base_uri": "https://localhost:8080/"
        },
        "id": "ZsM47LXXxOV8",
        "outputId": "2e45b5a3-6ff0-4470-ad6a-a3ff29bd26d8"
      },
      "execution_count": null,
      "outputs": [
        {
          "output_type": "stream",
          "name": "stdout",
          "text": [
            "22.3\n",
            "21.0\n",
            "36.61\n",
            "6.050619802962338\n"
          ]
        }
      ]
    },
    {
      "cell_type": "code",
      "source": [
        "#question 3\n",
        "robo=pd.read_csv('robot_dataset(robot_dataset)_1.csv')"
      ],
      "metadata": {
        "id": "orDiQDIEh6qh"
      },
      "execution_count": null,
      "outputs": []
    },
    {
      "cell_type": "code",
      "source": [
        "robo"
      ],
      "metadata": {
        "colab": {
          "base_uri": "https://localhost:8080/",
          "height": 582
        },
        "id": "-fwQWWY4jI3u",
        "outputId": "78c09105-3120-4cc1-ae24-30159a1e8962"
      },
      "execution_count": null,
      "outputs": [
        {
          "output_type": "execute_result",
          "data": {
            "text/plain": [
              "    Robot_ID   Task_Type Component_ID     Sensor_Type            Sensor_Data  \\\n",
              "0    RBT_001  Inspection      CMP_460           LIDAR  1 (obstacle detected)   \n",
              "1    RBT_002    Assembly      CMP_252         Thermal             85.3 (Â°C)   \n",
              "2    RBT_003  Inspection      CMP_248         Thermal       92% (visual fit)   \n",
              "3    RBT_004     Welding      CMP_433          Camera      98% (defect-free)   \n",
              "4    RBT_005    Assembly      CMP_992          Camera       92% (visual fit)   \n",
              "..       ...         ...          ...             ...                    ...   \n",
              "495  RBT_496  Inspection      CMP_834           LIDAR             85.3 (Â°C)   \n",
              "496  RBT_497  Inspection      CMP_851           LIDAR       92% (visual fit)   \n",
              "497  RBT_498  Inspection      CMP_657           LIDAR             82.4 (Â°C)   \n",
              "498  RBT_499    Assembly      CMP_562          Camera      98% (defect-free)   \n",
              "499  RBT_500    Assembly      CMP_465  LIDAR + Camera             75.8 (Â°C)   \n",
              "\n",
              "     Processing_Time (s)  Accuracy (%) Environmental_Status  \\\n",
              "0                   67.0          90.4               Stable   \n",
              "1                   71.2          98.1               Stable   \n",
              "2                   49.2          95.3             Unstable   \n",
              "3                   74.5          90.2               Stable   \n",
              "4                   64.5          97.2             Unstable   \n",
              "..                   ...           ...                  ...   \n",
              "495                 66.3          96.2             Unstable   \n",
              "496                 45.1          92.8             Unstable   \n",
              "497                 75.4          98.7             Unstable   \n",
              "498                 48.7          94.9               Stable   \n",
              "499                 73.5          91.4               Stable   \n",
              "\n",
              "     Energy_Consumption (kWh) Human_Intervention_Needed Obstacle_Detected  \\\n",
              "0                         2.2                        No               Yes   \n",
              "1                         2.7                       Yes                No   \n",
              "2                         2.4                        No                No   \n",
              "3                         2.4                       Yes                No   \n",
              "4                         1.8                        No                No   \n",
              "..                        ...                       ...               ...   \n",
              "495                       1.3                        No               Yes   \n",
              "496                       2.3                        No               Yes   \n",
              "497                       2.6                       Yes                No   \n",
              "498                       2.2                        No               Yes   \n",
              "499                       2.0                       Yes                No   \n",
              "\n",
              "    Defect_Detected  Interaction_Count  Steps_Walked  Objects_Recognized  \\\n",
              "0               Yes                  2            10                   2   \n",
              "1                No                  6            23                   4   \n",
              "2                No                  2            25                   3   \n",
              "3               Yes                  7            34                   5   \n",
              "4                No                  8            35                   3   \n",
              "..              ...                ...           ...                 ...   \n",
              "495              No                  4            49                   4   \n",
              "496             Yes                  5            43                   8   \n",
              "497              No                  6            23                   9   \n",
              "498              No                  4            31                   3   \n",
              "499             Yes                  5            49                   2   \n",
              "\n",
              "     Learning_Sessions  Energy_Consumption (kWh).1  \n",
              "0                   10                         100  \n",
              "1                   12                         123  \n",
              "2                   45                         321  \n",
              "3                   12                         456  \n",
              "4                   32                         654  \n",
              "..                 ...                         ...  \n",
              "495                 49                         130  \n",
              "496                 56                         124  \n",
              "497                 23                         107  \n",
              "498                 45                         108  \n",
              "499                 78                         109  \n",
              "\n",
              "[500 rows x 17 columns]"
            ],
            "text/html": [
              "\n",
              "  <div id=\"df-c3ec12bb-cf41-4e7e-916b-de87839d7de8\" class=\"colab-df-container\">\n",
              "    <div>\n",
              "<style scoped>\n",
              "    .dataframe tbody tr th:only-of-type {\n",
              "        vertical-align: middle;\n",
              "    }\n",
              "\n",
              "    .dataframe tbody tr th {\n",
              "        vertical-align: top;\n",
              "    }\n",
              "\n",
              "    .dataframe thead th {\n",
              "        text-align: right;\n",
              "    }\n",
              "</style>\n",
              "<table border=\"1\" class=\"dataframe\">\n",
              "  <thead>\n",
              "    <tr style=\"text-align: right;\">\n",
              "      <th></th>\n",
              "      <th>Robot_ID</th>\n",
              "      <th>Task_Type</th>\n",
              "      <th>Component_ID</th>\n",
              "      <th>Sensor_Type</th>\n",
              "      <th>Sensor_Data</th>\n",
              "      <th>Processing_Time (s)</th>\n",
              "      <th>Accuracy (%)</th>\n",
              "      <th>Environmental_Status</th>\n",
              "      <th>Energy_Consumption (kWh)</th>\n",
              "      <th>Human_Intervention_Needed</th>\n",
              "      <th>Obstacle_Detected</th>\n",
              "      <th>Defect_Detected</th>\n",
              "      <th>Interaction_Count</th>\n",
              "      <th>Steps_Walked</th>\n",
              "      <th>Objects_Recognized</th>\n",
              "      <th>Learning_Sessions</th>\n",
              "      <th>Energy_Consumption (kWh).1</th>\n",
              "    </tr>\n",
              "  </thead>\n",
              "  <tbody>\n",
              "    <tr>\n",
              "      <th>0</th>\n",
              "      <td>RBT_001</td>\n",
              "      <td>Inspection</td>\n",
              "      <td>CMP_460</td>\n",
              "      <td>LIDAR</td>\n",
              "      <td>1 (obstacle detected)</td>\n",
              "      <td>67.0</td>\n",
              "      <td>90.4</td>\n",
              "      <td>Stable</td>\n",
              "      <td>2.2</td>\n",
              "      <td>No</td>\n",
              "      <td>Yes</td>\n",
              "      <td>Yes</td>\n",
              "      <td>2</td>\n",
              "      <td>10</td>\n",
              "      <td>2</td>\n",
              "      <td>10</td>\n",
              "      <td>100</td>\n",
              "    </tr>\n",
              "    <tr>\n",
              "      <th>1</th>\n",
              "      <td>RBT_002</td>\n",
              "      <td>Assembly</td>\n",
              "      <td>CMP_252</td>\n",
              "      <td>Thermal</td>\n",
              "      <td>85.3 (Â°C)</td>\n",
              "      <td>71.2</td>\n",
              "      <td>98.1</td>\n",
              "      <td>Stable</td>\n",
              "      <td>2.7</td>\n",
              "      <td>Yes</td>\n",
              "      <td>No</td>\n",
              "      <td>No</td>\n",
              "      <td>6</td>\n",
              "      <td>23</td>\n",
              "      <td>4</td>\n",
              "      <td>12</td>\n",
              "      <td>123</td>\n",
              "    </tr>\n",
              "    <tr>\n",
              "      <th>2</th>\n",
              "      <td>RBT_003</td>\n",
              "      <td>Inspection</td>\n",
              "      <td>CMP_248</td>\n",
              "      <td>Thermal</td>\n",
              "      <td>92% (visual fit)</td>\n",
              "      <td>49.2</td>\n",
              "      <td>95.3</td>\n",
              "      <td>Unstable</td>\n",
              "      <td>2.4</td>\n",
              "      <td>No</td>\n",
              "      <td>No</td>\n",
              "      <td>No</td>\n",
              "      <td>2</td>\n",
              "      <td>25</td>\n",
              "      <td>3</td>\n",
              "      <td>45</td>\n",
              "      <td>321</td>\n",
              "    </tr>\n",
              "    <tr>\n",
              "      <th>3</th>\n",
              "      <td>RBT_004</td>\n",
              "      <td>Welding</td>\n",
              "      <td>CMP_433</td>\n",
              "      <td>Camera</td>\n",
              "      <td>98% (defect-free)</td>\n",
              "      <td>74.5</td>\n",
              "      <td>90.2</td>\n",
              "      <td>Stable</td>\n",
              "      <td>2.4</td>\n",
              "      <td>Yes</td>\n",
              "      <td>No</td>\n",
              "      <td>Yes</td>\n",
              "      <td>7</td>\n",
              "      <td>34</td>\n",
              "      <td>5</td>\n",
              "      <td>12</td>\n",
              "      <td>456</td>\n",
              "    </tr>\n",
              "    <tr>\n",
              "      <th>4</th>\n",
              "      <td>RBT_005</td>\n",
              "      <td>Assembly</td>\n",
              "      <td>CMP_992</td>\n",
              "      <td>Camera</td>\n",
              "      <td>92% (visual fit)</td>\n",
              "      <td>64.5</td>\n",
              "      <td>97.2</td>\n",
              "      <td>Unstable</td>\n",
              "      <td>1.8</td>\n",
              "      <td>No</td>\n",
              "      <td>No</td>\n",
              "      <td>No</td>\n",
              "      <td>8</td>\n",
              "      <td>35</td>\n",
              "      <td>3</td>\n",
              "      <td>32</td>\n",
              "      <td>654</td>\n",
              "    </tr>\n",
              "    <tr>\n",
              "      <th>...</th>\n",
              "      <td>...</td>\n",
              "      <td>...</td>\n",
              "      <td>...</td>\n",
              "      <td>...</td>\n",
              "      <td>...</td>\n",
              "      <td>...</td>\n",
              "      <td>...</td>\n",
              "      <td>...</td>\n",
              "      <td>...</td>\n",
              "      <td>...</td>\n",
              "      <td>...</td>\n",
              "      <td>...</td>\n",
              "      <td>...</td>\n",
              "      <td>...</td>\n",
              "      <td>...</td>\n",
              "      <td>...</td>\n",
              "      <td>...</td>\n",
              "    </tr>\n",
              "    <tr>\n",
              "      <th>495</th>\n",
              "      <td>RBT_496</td>\n",
              "      <td>Inspection</td>\n",
              "      <td>CMP_834</td>\n",
              "      <td>LIDAR</td>\n",
              "      <td>85.3 (Â°C)</td>\n",
              "      <td>66.3</td>\n",
              "      <td>96.2</td>\n",
              "      <td>Unstable</td>\n",
              "      <td>1.3</td>\n",
              "      <td>No</td>\n",
              "      <td>Yes</td>\n",
              "      <td>No</td>\n",
              "      <td>4</td>\n",
              "      <td>49</td>\n",
              "      <td>4</td>\n",
              "      <td>49</td>\n",
              "      <td>130</td>\n",
              "    </tr>\n",
              "    <tr>\n",
              "      <th>496</th>\n",
              "      <td>RBT_497</td>\n",
              "      <td>Inspection</td>\n",
              "      <td>CMP_851</td>\n",
              "      <td>LIDAR</td>\n",
              "      <td>92% (visual fit)</td>\n",
              "      <td>45.1</td>\n",
              "      <td>92.8</td>\n",
              "      <td>Unstable</td>\n",
              "      <td>2.3</td>\n",
              "      <td>No</td>\n",
              "      <td>Yes</td>\n",
              "      <td>Yes</td>\n",
              "      <td>5</td>\n",
              "      <td>43</td>\n",
              "      <td>8</td>\n",
              "      <td>56</td>\n",
              "      <td>124</td>\n",
              "    </tr>\n",
              "    <tr>\n",
              "      <th>497</th>\n",
              "      <td>RBT_498</td>\n",
              "      <td>Inspection</td>\n",
              "      <td>CMP_657</td>\n",
              "      <td>LIDAR</td>\n",
              "      <td>82.4 (Â°C)</td>\n",
              "      <td>75.4</td>\n",
              "      <td>98.7</td>\n",
              "      <td>Unstable</td>\n",
              "      <td>2.6</td>\n",
              "      <td>Yes</td>\n",
              "      <td>No</td>\n",
              "      <td>No</td>\n",
              "      <td>6</td>\n",
              "      <td>23</td>\n",
              "      <td>9</td>\n",
              "      <td>23</td>\n",
              "      <td>107</td>\n",
              "    </tr>\n",
              "    <tr>\n",
              "      <th>498</th>\n",
              "      <td>RBT_499</td>\n",
              "      <td>Assembly</td>\n",
              "      <td>CMP_562</td>\n",
              "      <td>Camera</td>\n",
              "      <td>98% (defect-free)</td>\n",
              "      <td>48.7</td>\n",
              "      <td>94.9</td>\n",
              "      <td>Stable</td>\n",
              "      <td>2.2</td>\n",
              "      <td>No</td>\n",
              "      <td>Yes</td>\n",
              "      <td>No</td>\n",
              "      <td>4</td>\n",
              "      <td>31</td>\n",
              "      <td>3</td>\n",
              "      <td>45</td>\n",
              "      <td>108</td>\n",
              "    </tr>\n",
              "    <tr>\n",
              "      <th>499</th>\n",
              "      <td>RBT_500</td>\n",
              "      <td>Assembly</td>\n",
              "      <td>CMP_465</td>\n",
              "      <td>LIDAR + Camera</td>\n",
              "      <td>75.8 (Â°C)</td>\n",
              "      <td>73.5</td>\n",
              "      <td>91.4</td>\n",
              "      <td>Stable</td>\n",
              "      <td>2.0</td>\n",
              "      <td>Yes</td>\n",
              "      <td>No</td>\n",
              "      <td>Yes</td>\n",
              "      <td>5</td>\n",
              "      <td>49</td>\n",
              "      <td>2</td>\n",
              "      <td>78</td>\n",
              "      <td>109</td>\n",
              "    </tr>\n",
              "  </tbody>\n",
              "</table>\n",
              "<p>500 rows × 17 columns</p>\n",
              "</div>\n",
              "    <div class=\"colab-df-buttons\">\n",
              "\n",
              "  <div class=\"colab-df-container\">\n",
              "    <button class=\"colab-df-convert\" onclick=\"convertToInteractive('df-c3ec12bb-cf41-4e7e-916b-de87839d7de8')\"\n",
              "            title=\"Convert this dataframe to an interactive table.\"\n",
              "            style=\"display:none;\">\n",
              "\n",
              "  <svg xmlns=\"http://www.w3.org/2000/svg\" height=\"24px\" viewBox=\"0 -960 960 960\">\n",
              "    <path d=\"M120-120v-720h720v720H120Zm60-500h600v-160H180v160Zm220 220h160v-160H400v160Zm0 220h160v-160H400v160ZM180-400h160v-160H180v160Zm440 0h160v-160H620v160ZM180-180h160v-160H180v160Zm440 0h160v-160H620v160Z\"/>\n",
              "  </svg>\n",
              "    </button>\n",
              "\n",
              "  <style>\n",
              "    .colab-df-container {\n",
              "      display:flex;\n",
              "      gap: 12px;\n",
              "    }\n",
              "\n",
              "    .colab-df-convert {\n",
              "      background-color: #E8F0FE;\n",
              "      border: none;\n",
              "      border-radius: 50%;\n",
              "      cursor: pointer;\n",
              "      display: none;\n",
              "      fill: #1967D2;\n",
              "      height: 32px;\n",
              "      padding: 0 0 0 0;\n",
              "      width: 32px;\n",
              "    }\n",
              "\n",
              "    .colab-df-convert:hover {\n",
              "      background-color: #E2EBFA;\n",
              "      box-shadow: 0px 1px 2px rgba(60, 64, 67, 0.3), 0px 1px 3px 1px rgba(60, 64, 67, 0.15);\n",
              "      fill: #174EA6;\n",
              "    }\n",
              "\n",
              "    .colab-df-buttons div {\n",
              "      margin-bottom: 4px;\n",
              "    }\n",
              "\n",
              "    [theme=dark] .colab-df-convert {\n",
              "      background-color: #3B4455;\n",
              "      fill: #D2E3FC;\n",
              "    }\n",
              "\n",
              "    [theme=dark] .colab-df-convert:hover {\n",
              "      background-color: #434B5C;\n",
              "      box-shadow: 0px 1px 3px 1px rgba(0, 0, 0, 0.15);\n",
              "      filter: drop-shadow(0px 1px 2px rgba(0, 0, 0, 0.3));\n",
              "      fill: #FFFFFF;\n",
              "    }\n",
              "  </style>\n",
              "\n",
              "    <script>\n",
              "      const buttonEl =\n",
              "        document.querySelector('#df-c3ec12bb-cf41-4e7e-916b-de87839d7de8 button.colab-df-convert');\n",
              "      buttonEl.style.display =\n",
              "        google.colab.kernel.accessAllowed ? 'block' : 'none';\n",
              "\n",
              "      async function convertToInteractive(key) {\n",
              "        const element = document.querySelector('#df-c3ec12bb-cf41-4e7e-916b-de87839d7de8');\n",
              "        const dataTable =\n",
              "          await google.colab.kernel.invokeFunction('convertToInteractive',\n",
              "                                                    [key], {});\n",
              "        if (!dataTable) return;\n",
              "\n",
              "        const docLinkHtml = 'Like what you see? Visit the ' +\n",
              "          '<a target=\"_blank\" href=https://colab.research.google.com/notebooks/data_table.ipynb>data table notebook</a>'\n",
              "          + ' to learn more about interactive tables.';\n",
              "        element.innerHTML = '';\n",
              "        dataTable['output_type'] = 'display_data';\n",
              "        await google.colab.output.renderOutput(dataTable, element);\n",
              "        const docLink = document.createElement('div');\n",
              "        docLink.innerHTML = docLinkHtml;\n",
              "        element.appendChild(docLink);\n",
              "      }\n",
              "    </script>\n",
              "  </div>\n",
              "\n",
              "\n",
              "<div id=\"df-c66cdeee-a799-4756-801c-d982c43bdda2\">\n",
              "  <button class=\"colab-df-quickchart\" onclick=\"quickchart('df-c66cdeee-a799-4756-801c-d982c43bdda2')\"\n",
              "            title=\"Suggest charts\"\n",
              "            style=\"display:none;\">\n",
              "\n",
              "<svg xmlns=\"http://www.w3.org/2000/svg\" height=\"24px\"viewBox=\"0 0 24 24\"\n",
              "     width=\"24px\">\n",
              "    <g>\n",
              "        <path d=\"M19 3H5c-1.1 0-2 .9-2 2v14c0 1.1.9 2 2 2h14c1.1 0 2-.9 2-2V5c0-1.1-.9-2-2-2zM9 17H7v-7h2v7zm4 0h-2V7h2v10zm4 0h-2v-4h2v4z\"/>\n",
              "    </g>\n",
              "</svg>\n",
              "  </button>\n",
              "\n",
              "<style>\n",
              "  .colab-df-quickchart {\n",
              "      --bg-color: #E8F0FE;\n",
              "      --fill-color: #1967D2;\n",
              "      --hover-bg-color: #E2EBFA;\n",
              "      --hover-fill-color: #174EA6;\n",
              "      --disabled-fill-color: #AAA;\n",
              "      --disabled-bg-color: #DDD;\n",
              "  }\n",
              "\n",
              "  [theme=dark] .colab-df-quickchart {\n",
              "      --bg-color: #3B4455;\n",
              "      --fill-color: #D2E3FC;\n",
              "      --hover-bg-color: #434B5C;\n",
              "      --hover-fill-color: #FFFFFF;\n",
              "      --disabled-bg-color: #3B4455;\n",
              "      --disabled-fill-color: #666;\n",
              "  }\n",
              "\n",
              "  .colab-df-quickchart {\n",
              "    background-color: var(--bg-color);\n",
              "    border: none;\n",
              "    border-radius: 50%;\n",
              "    cursor: pointer;\n",
              "    display: none;\n",
              "    fill: var(--fill-color);\n",
              "    height: 32px;\n",
              "    padding: 0;\n",
              "    width: 32px;\n",
              "  }\n",
              "\n",
              "  .colab-df-quickchart:hover {\n",
              "    background-color: var(--hover-bg-color);\n",
              "    box-shadow: 0 1px 2px rgba(60, 64, 67, 0.3), 0 1px 3px 1px rgba(60, 64, 67, 0.15);\n",
              "    fill: var(--button-hover-fill-color);\n",
              "  }\n",
              "\n",
              "  .colab-df-quickchart-complete:disabled,\n",
              "  .colab-df-quickchart-complete:disabled:hover {\n",
              "    background-color: var(--disabled-bg-color);\n",
              "    fill: var(--disabled-fill-color);\n",
              "    box-shadow: none;\n",
              "  }\n",
              "\n",
              "  .colab-df-spinner {\n",
              "    border: 2px solid var(--fill-color);\n",
              "    border-color: transparent;\n",
              "    border-bottom-color: var(--fill-color);\n",
              "    animation:\n",
              "      spin 1s steps(1) infinite;\n",
              "  }\n",
              "\n",
              "  @keyframes spin {\n",
              "    0% {\n",
              "      border-color: transparent;\n",
              "      border-bottom-color: var(--fill-color);\n",
              "      border-left-color: var(--fill-color);\n",
              "    }\n",
              "    20% {\n",
              "      border-color: transparent;\n",
              "      border-left-color: var(--fill-color);\n",
              "      border-top-color: var(--fill-color);\n",
              "    }\n",
              "    30% {\n",
              "      border-color: transparent;\n",
              "      border-left-color: var(--fill-color);\n",
              "      border-top-color: var(--fill-color);\n",
              "      border-right-color: var(--fill-color);\n",
              "    }\n",
              "    40% {\n",
              "      border-color: transparent;\n",
              "      border-right-color: var(--fill-color);\n",
              "      border-top-color: var(--fill-color);\n",
              "    }\n",
              "    60% {\n",
              "      border-color: transparent;\n",
              "      border-right-color: var(--fill-color);\n",
              "    }\n",
              "    80% {\n",
              "      border-color: transparent;\n",
              "      border-right-color: var(--fill-color);\n",
              "      border-bottom-color: var(--fill-color);\n",
              "    }\n",
              "    90% {\n",
              "      border-color: transparent;\n",
              "      border-bottom-color: var(--fill-color);\n",
              "    }\n",
              "  }\n",
              "</style>\n",
              "\n",
              "  <script>\n",
              "    async function quickchart(key) {\n",
              "      const quickchartButtonEl =\n",
              "        document.querySelector('#' + key + ' button');\n",
              "      quickchartButtonEl.disabled = true;  // To prevent multiple clicks.\n",
              "      quickchartButtonEl.classList.add('colab-df-spinner');\n",
              "      try {\n",
              "        const charts = await google.colab.kernel.invokeFunction(\n",
              "            'suggestCharts', [key], {});\n",
              "      } catch (error) {\n",
              "        console.error('Error during call to suggestCharts:', error);\n",
              "      }\n",
              "      quickchartButtonEl.classList.remove('colab-df-spinner');\n",
              "      quickchartButtonEl.classList.add('colab-df-quickchart-complete');\n",
              "    }\n",
              "    (() => {\n",
              "      let quickchartButtonEl =\n",
              "        document.querySelector('#df-c66cdeee-a799-4756-801c-d982c43bdda2 button');\n",
              "      quickchartButtonEl.style.display =\n",
              "        google.colab.kernel.accessAllowed ? 'block' : 'none';\n",
              "    })();\n",
              "  </script>\n",
              "</div>\n",
              "\n",
              "  <div id=\"id_e7594f97-2c0b-461f-a8e3-46a05027e549\">\n",
              "    <style>\n",
              "      .colab-df-generate {\n",
              "        background-color: #E8F0FE;\n",
              "        border: none;\n",
              "        border-radius: 50%;\n",
              "        cursor: pointer;\n",
              "        display: none;\n",
              "        fill: #1967D2;\n",
              "        height: 32px;\n",
              "        padding: 0 0 0 0;\n",
              "        width: 32px;\n",
              "      }\n",
              "\n",
              "      .colab-df-generate:hover {\n",
              "        background-color: #E2EBFA;\n",
              "        box-shadow: 0px 1px 2px rgba(60, 64, 67, 0.3), 0px 1px 3px 1px rgba(60, 64, 67, 0.15);\n",
              "        fill: #174EA6;\n",
              "      }\n",
              "\n",
              "      [theme=dark] .colab-df-generate {\n",
              "        background-color: #3B4455;\n",
              "        fill: #D2E3FC;\n",
              "      }\n",
              "\n",
              "      [theme=dark] .colab-df-generate:hover {\n",
              "        background-color: #434B5C;\n",
              "        box-shadow: 0px 1px 3px 1px rgba(0, 0, 0, 0.15);\n",
              "        filter: drop-shadow(0px 1px 2px rgba(0, 0, 0, 0.3));\n",
              "        fill: #FFFFFF;\n",
              "      }\n",
              "    </style>\n",
              "    <button class=\"colab-df-generate\" onclick=\"generateWithVariable('robo')\"\n",
              "            title=\"Generate code using this dataframe.\"\n",
              "            style=\"display:none;\">\n",
              "\n",
              "  <svg xmlns=\"http://www.w3.org/2000/svg\" height=\"24px\"viewBox=\"0 0 24 24\"\n",
              "       width=\"24px\">\n",
              "    <path d=\"M7,19H8.4L18.45,9,17,7.55,7,17.6ZM5,21V16.75L18.45,3.32a2,2,0,0,1,2.83,0l1.4,1.43a1.91,1.91,0,0,1,.58,1.4,1.91,1.91,0,0,1-.58,1.4L9.25,21ZM18.45,9,17,7.55Zm-12,3A5.31,5.31,0,0,0,4.9,8.1,5.31,5.31,0,0,0,1,6.5,5.31,5.31,0,0,0,4.9,4.9,5.31,5.31,0,0,0,6.5,1,5.31,5.31,0,0,0,8.1,4.9,5.31,5.31,0,0,0,12,6.5,5.46,5.46,0,0,0,6.5,12Z\"/>\n",
              "  </svg>\n",
              "    </button>\n",
              "    <script>\n",
              "      (() => {\n",
              "      const buttonEl =\n",
              "        document.querySelector('#id_e7594f97-2c0b-461f-a8e3-46a05027e549 button.colab-df-generate');\n",
              "      buttonEl.style.display =\n",
              "        google.colab.kernel.accessAllowed ? 'block' : 'none';\n",
              "\n",
              "      buttonEl.onclick = () => {\n",
              "        google.colab.notebook.generateWithVariable('robo');\n",
              "      }\n",
              "      })();\n",
              "    </script>\n",
              "  </div>\n",
              "\n",
              "    </div>\n",
              "  </div>\n"
            ],
            "application/vnd.google.colaboratory.intrinsic+json": {
              "type": "dataframe",
              "variable_name": "robo",
              "summary": "{\n  \"name\": \"robo\",\n  \"rows\": 500,\n  \"fields\": [\n    {\n      \"column\": \"Robot_ID\",\n      \"properties\": {\n        \"dtype\": \"string\",\n        \"num_unique_values\": 500,\n        \"samples\": [\n          \"RBT_362\",\n          \"RBT_074\",\n          \"RBT_375\"\n        ],\n        \"semantic_type\": \"\",\n        \"description\": \"\"\n      }\n    },\n    {\n      \"column\": \"Task_Type\",\n      \"properties\": {\n        \"dtype\": \"category\",\n        \"num_unique_values\": 4,\n        \"samples\": [\n          \"Assembly\",\n          \"Painting\",\n          \"Inspection\"\n        ],\n        \"semantic_type\": \"\",\n        \"description\": \"\"\n      }\n    },\n    {\n      \"column\": \"Component_ID\",\n      \"properties\": {\n        \"dtype\": \"string\",\n        \"num_unique_values\": 387,\n        \"samples\": [\n          \"CMP_360\",\n          \"CMP_178\",\n          \"CMP_596\"\n        ],\n        \"semantic_type\": \"\",\n        \"description\": \"\"\n      }\n    },\n    {\n      \"column\": \"Sensor_Type\",\n      \"properties\": {\n        \"dtype\": \"category\",\n        \"num_unique_values\": 4,\n        \"samples\": [\n          \"Thermal\",\n          \"LIDAR + Camera\",\n          \"LIDAR\"\n        ],\n        \"semantic_type\": \"\",\n        \"description\": \"\"\n      }\n    },\n    {\n      \"column\": \"Sensor_Data\",\n      \"properties\": {\n        \"dtype\": \"category\",\n        \"num_unique_values\": 8,\n        \"samples\": [\n          \"85.3 (\\u00c2\\u00b0C)\",\n          \"0 (no obstacle)\",\n          \"1 (obstacle detected)\"\n        ],\n        \"semantic_type\": \"\",\n        \"description\": \"\"\n      }\n    },\n    {\n      \"column\": \"Processing_Time (s)\",\n      \"properties\": {\n        \"dtype\": \"number\",\n        \"std\": 11.68880778586549,\n        \"min\": 40.1,\n        \"max\": 80.0,\n        \"num_unique_values\": 282,\n        \"samples\": [\n          77.1,\n          44.7,\n          53.7\n        ],\n        \"semantic_type\": \"\",\n        \"description\": \"\"\n      }\n    },\n    {\n      \"column\": \"Accuracy (%)\",\n      \"properties\": {\n        \"dtype\": \"number\",\n        \"std\": 2.900949267620275,\n        \"min\": 90.0,\n        \"max\": 99.9,\n        \"num_unique_values\": 100,\n        \"samples\": [\n          92.8,\n          96.6,\n          91.9\n        ],\n        \"semantic_type\": \"\",\n        \"description\": \"\"\n      }\n    },\n    {\n      \"column\": \"Environmental_Status\",\n      \"properties\": {\n        \"dtype\": \"category\",\n        \"num_unique_values\": 2,\n        \"samples\": [\n          \"Unstable\",\n          \"Stable\"\n        ],\n        \"semantic_type\": \"\",\n        \"description\": \"\"\n      }\n    },\n    {\n      \"column\": \"Energy_Consumption (kWh)\",\n      \"properties\": {\n        \"dtype\": \"number\",\n        \"std\": 0.5827892299735348,\n        \"min\": 1.0,\n        \"max\": 3.0,\n        \"num_unique_values\": 21,\n        \"samples\": [\n          2.2,\n          1.0\n        ],\n        \"semantic_type\": \"\",\n        \"description\": \"\"\n      }\n    },\n    {\n      \"column\": \"Human_Intervention_Needed\",\n      \"properties\": {\n        \"dtype\": \"category\",\n        \"num_unique_values\": 2,\n        \"samples\": [\n          \"Yes\",\n          \"No\"\n        ],\n        \"semantic_type\": \"\",\n        \"description\": \"\"\n      }\n    },\n    {\n      \"column\": \"Obstacle_Detected\",\n      \"properties\": {\n        \"dtype\": \"category\",\n        \"num_unique_values\": 2,\n        \"samples\": [\n          \"No\",\n          \"Yes\"\n        ],\n        \"semantic_type\": \"\",\n        \"description\": \"\"\n      }\n    },\n    {\n      \"column\": \"Defect_Detected\",\n      \"properties\": {\n        \"dtype\": \"category\",\n        \"num_unique_values\": 2,\n        \"samples\": [\n          \"No\",\n          \"Yes\"\n        ],\n        \"semantic_type\": \"\",\n        \"description\": \"\"\n      }\n    },\n    {\n      \"column\": \"Interaction_Count\",\n      \"properties\": {\n        \"dtype\": \"number\",\n        \"std\": 2,\n        \"min\": 0,\n        \"max\": 12,\n        \"num_unique_values\": 13,\n        \"samples\": [\n          12,\n          11\n        ],\n        \"semantic_type\": \"\",\n        \"description\": \"\"\n      }\n    },\n    {\n      \"column\": \"Steps_Walked\",\n      \"properties\": {\n        \"dtype\": \"number\",\n        \"std\": 11,\n        \"min\": 0,\n        \"max\": 49,\n        \"num_unique_values\": 31,\n        \"samples\": [\n          49,\n          17\n        ],\n        \"semantic_type\": \"\",\n        \"description\": \"\"\n      }\n    },\n    {\n      \"column\": \"Objects_Recognized\",\n      \"properties\": {\n        \"dtype\": \"number\",\n        \"std\": 2,\n        \"min\": 0,\n        \"max\": 9,\n        \"num_unique_values\": 10,\n        \"samples\": [\n          0,\n          4\n        ],\n        \"semantic_type\": \"\",\n        \"description\": \"\"\n      }\n    },\n    {\n      \"column\": \"Learning_Sessions\",\n      \"properties\": {\n        \"dtype\": \"number\",\n        \"std\": 19,\n        \"min\": 10,\n        \"max\": 91,\n        \"num_unique_values\": 25,\n        \"samples\": [\n          47,\n          26\n        ],\n        \"semantic_type\": \"\",\n        \"description\": \"\"\n      }\n    },\n    {\n      \"column\": \"Energy_Consumption (kWh).1\",\n      \"properties\": {\n        \"dtype\": \"number\",\n        \"std\": 146,\n        \"min\": 100,\n        \"max\": 654,\n        \"num_unique_values\": 20,\n        \"samples\": [\n          100,\n          107\n        ],\n        \"semantic_type\": \"\",\n        \"description\": \"\"\n      }\n    }\n  ]\n}"
            }
          },
          "metadata": {},
          "execution_count": 5
        }
      ]
    },
    {
      "cell_type": "code",
      "source": [
        "y=robo['Interaction_Count']"
      ],
      "metadata": {
        "id": "ewB24NXWjmxY"
      },
      "execution_count": null,
      "outputs": []
    },
    {
      "cell_type": "code",
      "source": [
        "y.mean()"
      ],
      "metadata": {
        "colab": {
          "base_uri": "https://localhost:8080/"
        },
        "id": "AUDGac_gkVXW",
        "outputId": "b0470fc5-3301-495d-cb04-35a4a76b480d"
      },
      "execution_count": null,
      "outputs": [
        {
          "output_type": "execute_result",
          "data": {
            "text/plain": [
              "5.51"
            ]
          },
          "metadata": {},
          "execution_count": 8
        }
      ]
    },
    {
      "cell_type": "code",
      "source": [
        "total_steps=robo['Steps_Walked']"
      ],
      "metadata": {
        "id": "sRVhr3w9kfEE"
      },
      "execution_count": null,
      "outputs": []
    },
    {
      "cell_type": "code",
      "source": [
        "total_steps.sum()"
      ],
      "metadata": {
        "colab": {
          "base_uri": "https://localhost:8080/"
        },
        "id": "YFlp5X0plrv8",
        "outputId": "d84694ad-0779-4a64-a6d4-4f00a1f4b594"
      },
      "execution_count": null,
      "outputs": [
        {
          "output_type": "execute_result",
          "data": {
            "text/plain": [
              "14379"
            ]
          },
          "metadata": {},
          "execution_count": 11
        }
      ]
    },
    {
      "cell_type": "code",
      "source": [
        "energy=robo['Energy_Consumption (kWh)']"
      ],
      "metadata": {
        "id": "vJs0Hp3Bl0ec"
      },
      "execution_count": null,
      "outputs": []
    },
    {
      "cell_type": "code",
      "source": [
        "energy.min()"
      ],
      "metadata": {
        "colab": {
          "base_uri": "https://localhost:8080/"
        },
        "id": "PvJI5N58mRwv",
        "outputId": "0cb9eca7-14ab-42b7-8d24-942fbe31daf0"
      },
      "execution_count": null,
      "outputs": [
        {
          "output_type": "execute_result",
          "data": {
            "text/plain": [
              "1.0"
            ]
          },
          "metadata": {},
          "execution_count": 15
        }
      ]
    },
    {
      "cell_type": "code",
      "source": [
        "energy.max()"
      ],
      "metadata": {
        "colab": {
          "base_uri": "https://localhost:8080/"
        },
        "id": "LQJwqkF3mhrH",
        "outputId": "cfc8fcd9-8423-4a27-99bc-1d305a54db35"
      },
      "execution_count": null,
      "outputs": [
        {
          "output_type": "execute_result",
          "data": {
            "text/plain": [
              "3.0"
            ]
          },
          "metadata": {},
          "execution_count": 16
        }
      ]
    },
    {
      "cell_type": "code",
      "source": [
        "correlation = robo['Steps_Walked'].corr(robo['Energy_Consumption (kWh)'])"
      ],
      "metadata": {
        "id": "U_Y7qauOmr9b"
      },
      "execution_count": null,
      "outputs": []
    },
    {
      "cell_type": "code",
      "source": [
        "print(correlation)"
      ],
      "metadata": {
        "colab": {
          "base_uri": "https://localhost:8080/"
        },
        "id": "x3bD6U2jm5C5",
        "outputId": "d345bd03-2dc5-4fec-832d-146bad74afe0"
      },
      "execution_count": null,
      "outputs": [
        {
          "output_type": "stream",
          "name": "stdout",
          "text": [
            "0.0015478137393313933\n"
          ]
        }
      ]
    },
    {
      "cell_type": "code",
      "source": [
        "objects_recognized = np.array(robo['Objects_Recognized'])"
      ],
      "metadata": {
        "id": "LGmUb0LfnQW5"
      },
      "execution_count": null,
      "outputs": []
    },
    {
      "cell_type": "code",
      "source": [
        "plt.hist(objects_recognized)\n",
        "plt.xlabel('Objects Recognized')\n",
        "plt.ylabel('Frequency')\n",
        "plt.title('Histogram of Objects Recognized')"
      ],
      "metadata": {
        "colab": {
          "base_uri": "https://localhost:8080/",
          "height": 490
        },
        "id": "v4Qv3-MbntI0",
        "outputId": "f7e8b83e-7f0b-45f2-a9dc-7234fa8b7e57"
      },
      "execution_count": null,
      "outputs": [
        {
          "output_type": "execute_result",
          "data": {
            "text/plain": [
              "Text(0.5, 1.0, 'Histogram of Objects Recognized')"
            ]
          },
          "metadata": {},
          "execution_count": 26
        },
        {
          "output_type": "display_data",
          "data": {
            "text/plain": [
              "<Figure size 640x480 with 1 Axes>"
            ],
            "image/png": "[encoded data removed]"
          },
          "metadata": {}
        }
      ]
    },
    {
      "cell_type": "code",
      "source": [
        "learning_sessions_variance = np.var(robo['Learning_Sessions'])"
      ],
      "metadata": {
        "id": "3Fyl5O-9n4Lr"
      },
      "execution_count": null,
      "outputs": []
    },
    {
      "cell_type": "code",
      "source": [
        "print(learning_sessions_variance)"
      ],
      "metadata": {
        "colab": {
          "base_uri": "https://localhost:8080/"
        },
        "id": "uJFpnMZcoT15",
        "outputId": "d3d122d8-324c-41ad-8ee7-09fa62ca796f"
      },
      "execution_count": null,
      "outputs": [
        {
          "output_type": "stream",
          "name": "stdout",
          "text": [
            "391.15840000000026\n"
          ]
        }
      ]
    },
    {
      "cell_type": "code",
      "source": [
        "#4 question\n",
        "name = \"Alice\"\n",
        "age = 25\n",
        "print(f\"My name is {name} and I am {age} years old.\")"
      ],
      "metadata": {
        "colab": {
          "base_uri": "https://localhost:8080/"
        },
        "id": "Tng9uU7qErca",
        "outputId": "f94e3aaa-ea65-4f98-fcda-195836a85b7c"
      },
      "execution_count": null,
      "outputs": [
        {
          "output_type": "stream",
          "name": "stdout",
          "text": [
            "My name is Alice and I am 25 years old.\n"
          ]
        }
      ]
    },
    {
      "cell_type": "code",
      "source": [
        "#5th question\n",
        "num = int(input(\"Enter an integer: \"))\n",
        "if num > 0:\n",
        "    print(f\"The number {num} is positive.\")\n",
        "elif num < 0:\n",
        "    print(f\"The number {num} is negative.\")\n",
        "else:\n",
        "    print(f\"The number is zero.\")"
      ],
      "metadata": {
        "colab": {
          "base_uri": "https://localhost:8080/"
        },
        "id": "gwBw17coExUR",
        "outputId": "6181e8e0-5093-4a47-c945-b194d7f8eb14"
      },
      "execution_count": null,
      "outputs": [
        {
          "output_type": "stream",
          "name": "stdout",
          "text": [
            "Enter an integer: 3\n",
            "The number 3 is positive.\n"
          ]
        }
      ]
    },
    {
      "cell_type": "code",
      "source": [
        "#6th question\n",
        "num = int(input(\"Enter a number: \"))\n",
        "print(f\"\\nMultiplication Table for {num}:\")\n",
        "for i in range(1, 11):\n",
        "    print(f\"{num} x {i} = {num * i}\")"
      ],
      "metadata": {
        "colab": {
          "base_uri": "https://localhost:8080/"
        },
        "id": "dKKwEW60FI8J",
        "outputId": "a1f50f74-7318-49a1-8c2c-e2bda41d0c1d"
      },
      "execution_count": null,
      "outputs": [
        {
          "output_type": "stream",
          "name": "stdout",
          "text": [
            "Enter a number: 4\n",
            "\n",
            "Multiplication Table for 4:\n",
            "4 x 1 = 4\n",
            "4 x 2 = 8\n",
            "4 x 3 = 12\n",
            "4 x 4 = 16\n",
            "4 x 5 = 20\n",
            "4 x 6 = 24\n",
            "4 x 7 = 28\n",
            "4 x 8 = 32\n",
            "4 x 9 = 36\n",
            "4 x 10 = 40\n"
          ]
        }
      ]
    },
    {
      "cell_type": "code",
      "source": [
        "#7th question\n",
        "fruits = [\"Apple\", \"Banana\", \"Orange\", \"Grapes\", \"Mango\"]\n",
        "print(\"Original list of fruits:\", fruits)\n",
        "fruits.append(\"Pineapple\")\n",
        "print(\"After adding Pineapple:\", fruits)\n",
        "fruits.remove(\"Orange\")\n",
        "print(\"After removing Orange:\", fruits)\n",
        "fruits.sort()\n",
        "print(\"Sorted list:\", fruits)"
      ],
      "metadata": {
        "colab": {
          "base_uri": "https://localhost:8080/"
        },
        "id": "y9XIEVFqFat5",
        "outputId": "4152f650-4220-43b7-900f-e902718a75e3"
      },
      "execution_count": null,
      "outputs": [
        {
          "output_type": "stream",
          "name": "stdout",
          "text": [
            "Original list of fruits: ['Apple', 'Banana', 'Orange', 'Grapes', 'Mango']\n",
            "After adding Pineapple: ['Apple', 'Banana', 'Orange', 'Grapes', 'Mango', 'Pineapple']\n",
            "After removing Orange: ['Apple', 'Banana', 'Grapes', 'Mango', 'Pineapple']\n",
            "Sorted list: ['Apple', 'Banana', 'Grapes', 'Mango', 'Pineapple']\n"
          ]
        }
      ]
    },
    {
      "cell_type": "code",
      "source": [
        "#8th question\n",
        "numbers = (10, 20, 30, 40, 50)\n",
        "print(\"Original tuple:\", numbers)\n",
        "print(\"Length of the tuple:\", len(numbers))\n",
        "print(\"Maximum value:\", max(numbers))\n",
        "print(\"Minimum value:\", min(numbers))\n",
        "print(\"Sum of all elements:\", sum(numbers))"
      ],
      "metadata": {
        "colab": {
          "base_uri": "https://localhost:8080/"
        },
        "id": "rU0sdcKQF_KH",
        "outputId": "75e85be9-9503-4e92-bbde-f72be5e89425"
      },
      "execution_count": null,
      "outputs": [
        {
          "output_type": "stream",
          "name": "stdout",
          "text": [
            "Original tuple: (10, 20, 30, 40, 50)\n",
            "Length of the tuple: 5\n",
            "Maximum value: 50\n",
            "Minimum value: 10\n",
            "Sum of all elements: 150\n"
          ]
        }
      ]
    },
    {
      "cell_type": "code",
      "source": [
        "#9th question\n",
        "students = {\n",
        "    \"Alice\": 85,\n",
        "    \"Bob\": 78,\n",
        "    \"Charlie\": 92\n",
        "}\n",
        "print(\"Original dictionary:\", students)\n",
        "students[\"Bob\"] = 88\n",
        "print(\"After updating Bob's score:\", students)\n",
        "students[\"David\"] = 95\n",
        "print(\"After adding David:\", students)\n",
        "del students[\"Alice\"]\n",
        "print(\"After removing Alice:\", students)"
      ],
      "metadata": {
        "colab": {
          "base_uri": "https://localhost:8080/"
        },
        "id": "OJ71fP71G0gX",
        "outputId": "bafb6894-5a95-4bf8-8fee-375640c0d024"
      },
      "execution_count": null,
      "outputs": [
        {
          "output_type": "stream",
          "name": "stdout",
          "text": [
            "Original dictionary: {'Alice': 85, 'Bob': 78, 'Charlie': 92}\n",
            "After updating Bob's score: {'Alice': 85, 'Bob': 88, 'Charlie': 92}\n",
            "After adding David: {'Alice': 85, 'Bob': 88, 'Charlie': 92, 'David': 95}\n",
            "After removing Alice: {'Bob': 88, 'Charlie': 92, 'David': 95}\n"
          ]
        }
      ]
    },
    {
      "cell_type": "code",
      "source": [
        "#10th question\n",
        "set1 = {1, 2, 3, 4, 5}\n",
        "set2 = {4, 5, 6, 7, 8}\n",
        "union_set = set1.union(set2)\n",
        "print(\"Union of Set 1 and Set 2:\", union_set)\n",
        "intersection_set = set1.intersection(set2)\n",
        "print(\"Intersection of Set 1 and Set 2:\", intersection_set)\n",
        "difference_set = set1.difference(set2)\n",
        "print(\"Difference between Set 1 and Set 2:\", difference_set)"
      ],
      "metadata": {
        "colab": {
          "base_uri": "https://localhost:8080/"
        },
        "id": "Kwx0-4JjHRIh",
        "outputId": "f10a6d5a-a034-400b-f009-95cbef942710"
      },
      "execution_count": null,
      "outputs": [
        {
          "output_type": "stream",
          "name": "stdout",
          "text": [
            "Union of Set 1 and Set 2: {1, 2, 3, 4, 5, 6, 7, 8}\n",
            "Intersection of Set 1 and Set 2: {4, 5}\n",
            "Difference between Set 1 and Set 2: {1, 2, 3}\n"
          ]
        }
      ]
    },
    {
      "cell_type": "code",
      "source": [
        "#11th question\n",
        "def find_largest(numbers):\n",
        "    if not numbers:\n",
        "        return \"The list is empty.\"\n",
        "    return max(numbers)\n",
        "\n",
        "\n",
        "\n",
        "sample_list = [12, 45, 78, 34, 89, 23]\n",
        "\n",
        "largest_number = find_largest(sample_list)\n",
        "\n",
        "print(f\"The largest number in the list is: {largest_number}\")"
      ],
      "metadata": {
        "colab": {
          "base_uri": "https://localhost:8080/"
        },
        "id": "SkZws6qjHmoU",
        "outputId": "887ec1f5-fcec-474a-ef39-2d52008b291a"
      },
      "execution_count": null,
      "outputs": [
        {
          "output_type": "stream",
          "name": "stdout",
          "text": [
            "The largest number in the list is: 89\n"
          ]
        }
      ]
    },
    {
      "cell_type": "code",
      "source": [
        "#12th question\n",
        "squares_of_even = [x**2 for x in range(1, 21) if x % 2 == 0]\n",
        "\n",
        "print(\"Squares of even numbers between 1 and 20:\", squares_of_even)"
      ],
      "metadata": {
        "colab": {
          "base_uri": "https://localhost:8080/"
        },
        "id": "oQlmxbQ1H4wK",
        "outputId": "b0ef367f-c1ac-4146-ed7e-c63e05f11fd3"
      },
      "execution_count": null,
      "outputs": [
        {
          "output_type": "stream",
          "name": "stdout",
          "text": [
            "Squares of even numbers between 1 and 20: [4, 16, 36, 64, 100, 144, 196, 256, 324, 400]\n"
          ]
        }
      ]
    },
    {
      "cell_type": "code",
      "source": [
        "#13th question\n",
        "product = lambda a, b: a * b\n",
        "\n",
        "num1 = float(input(\"Enter the first number: \"))\n",
        "num2 = float(input(\"Enter the second number: \"))\n",
        "\n",
        "result = product(num1, num2)\n",
        "print(f\"The product of {num1} and {num2} is: {result}\")"
      ],
      "metadata": {
        "colab": {
          "base_uri": "https://localhost:8080/"
        },
        "id": "dHsCuPwtI1Me",
        "outputId": "111ede43-1607-47c9-d1e1-9b3bb0bbeca4"
      },
      "execution_count": null,
      "outputs": [
        {
          "output_type": "stream",
          "name": "stdout",
          "text": [
            "Enter the first number: 4\n",
            "Enter the second number: 5\n",
            "The product of 4.0 and 5.0 is: 20.0\n"
          ]
        }
      ]
    },
    {
      "cell_type": "code",
      "source": [
        "#14th question\n",
        "one_d_array = np.array([1, 2, 3, 4, 5])\n",
        "two_d_array = np.array([[1, 2, 3], [4, 5, 6]])\n",
        "three_d_array = np.array([[[1, 2], [3, 4]], [[5, 6], [7, 8]]])\n",
        "\n",
        "print(\"One-dimensional array:\", one_d_array)\n",
        "print(\"Two-dimensional array:\", two_d_array)\n",
        "print(\"Three-dimensional array:\", three_d_array)\n",
        "\n",
        "print(\"One-dimensional array shape:\", one_d_array.shape)\n",
        "print(\"One-dimensional array dimensions:\", one_d_array.ndim)\n",
        "\n",
        "print(\"Two-dimensional array shape:\", two_d_array.shape)\n",
        "print(\"Two-dimensional array dimensions:\", two_d_array.ndim)\n",
        "\n",
        "print(\"Three-dimensional array shape:\", three_d_array.shape)\n",
        "print(\"Three-dimensional array dimensions:\", three_d_array.ndim)"
      ],
      "metadata": {
        "colab": {
          "base_uri": "https://localhost:8080/"
        },
        "id": "sBMBepVyJHwE",
        "outputId": "c4d0003b-e05c-4363-b7d1-940ed985ed05"
      },
      "execution_count": null,
      "outputs": [
        {
          "output_type": "stream",
          "name": "stdout",
          "text": [
            "One-dimensional array: [1 2 3 4 5]\n",
            "Two-dimensional array: [[1 2 3]\n",
            " [4 5 6]]\n",
            "Three-dimensional array: [[[1 2]\n",
            "  [3 4]]\n",
            "\n",
            " [[5 6]\n",
            "  [7 8]]]\n",
            "One-dimensional array shape: (5,)\n",
            "One-dimensional array dimensions: 1\n",
            "Two-dimensional array shape: (2, 3)\n",
            "Two-dimensional array dimensions: 2\n",
            "Three-dimensional array shape: (2, 2, 2)\n",
            "Three-dimensional array dimensions: 3\n"
          ]
        }
      ]
    },
    {
      "cell_type": "code",
      "source": [
        "#15th question\n",
        "\n",
        "random_array = np.random.randint(1, 101, size=(5, 5))\n",
        "\n",
        "print(\"5x5 Random Integer Array:\")\n",
        "print(random_array)\n",
        "\n",
        "print(\"\\nArray Indexing Operations:\")\n",
        "\n",
        "print(\"Element in the second row, third column:\", random_array[1, 2])\n",
        "print(\"Entire second row:\", random_array[1, :])\n",
        "print(\"Entire third column:\", random_array[:, 2])\n",
        "print(\"Top-left 2x2 subarray:\")\n",
        "print(random_array[:2, :2])\n",
        "print(\"Last two rows and last two columns:\")\n",
        "print(random_array[-2:, -2:])\n"
      ],
      "metadata": {
        "colab": {
          "base_uri": "https://localhost:8080/"
        },
        "id": "7LzWFJQoJ_Id",
        "outputId": "7ae2f765-d146-4760-cd24-9279516a8375"
      },
      "execution_count": null,
      "outputs": [
        {
          "output_type": "stream",
          "name": "stdout",
          "text": [
            "5x5 Random Integer Array:\n",
            "[[ 43  12  96  86  19]\n",
            " [ 83  45  26 100 100]\n",
            " [ 38  48  66  75  64]\n",
            " [ 34  62  40  83  90]\n",
            " [ 98   5   8  48   5]]\n",
            "\n",
            "Array Indexing Operations:\n",
            "Element in the second row, third column: 26\n",
            "Entire second row: [ 83  45  26 100 100]\n",
            "Entire third column: [96 26 66 40  8]\n",
            "Top-left 2x2 subarray:\n",
            "[[43 12]\n",
            " [83 45]]\n",
            "Last two rows and last two columns:\n",
            "[[83 90]\n",
            " [48  5]]\n"
          ]
        }
      ]
    },
    {
      "cell_type": "code",
      "source": [
        "#16th question\n",
        "\n",
        "array = np.arange(1, 17).reshape(4, 4)\n",
        "\n",
        "print(\"4x4 Array with numbers from 1 to 16:\")\n",
        "print(array)\n",
        "\n",
        "print(\"\\nArray Slicing Operations:\")\n",
        "\n",
        "print(\"First two rows and first two columns:\")\n",
        "print(array[:2, :2])\n",
        "\n",
        "print(\"Last two rows and last two columns:\")\n",
        "print(array[-2:, -2:])\n",
        "\n",
        "print(\"All rows, second column:\")\n",
        "print(array[:, 1])\n",
        "\n",
        "print(\"Second row, all columns:\")\n",
        "print(array[1, :])\n"
      ],
      "metadata": {
        "colab": {
          "base_uri": "https://localhost:8080/"
        },
        "id": "dPf_DrdtKc4c",
        "outputId": "67fd5f62-972a-44df-93f0-0b1bf1bed2a0"
      },
      "execution_count": null,
      "outputs": [
        {
          "output_type": "stream",
          "name": "stdout",
          "text": [
            "4x4 Array with numbers from 1 to 16:\n",
            "[[ 1  2  3  4]\n",
            " [ 5  6  7  8]\n",
            " [ 9 10 11 12]\n",
            " [13 14 15 16]]\n",
            "\n",
            "Array Slicing Operations:\n",
            "First two rows and first two columns:\n",
            "[[1 2]\n",
            " [5 6]]\n",
            "Last two rows and last two columns:\n",
            "[[11 12]\n",
            " [15 16]]\n",
            "All rows, second column:\n",
            "[ 2  6 10 14]\n",
            "Second row, all columns:\n",
            "[5 6 7 8]\n"
          ]
        }
      ]
    },
    {
      "cell_type": "code",
      "source": [
        "#17th question\n",
        "array_2d = np.arange(12).reshape(6, 2)\n",
        "\n",
        "array_3d = array_2d.reshape(2, 3, 2)\n",
        "\n",
        "flattened_array = array_3d.flatten()\n",
        "\n",
        "print(\"Original 2D array:\")\n",
        "print(array_2d)\n",
        "\n",
        "print(\"\\nReshaped 3D array:\")\n",
        "print(array_3d)\n",
        "\n",
        "print(\"\\nFlattened array:\")\n",
        "print(flattened_array)"
      ],
      "metadata": {
        "colab": {
          "base_uri": "https://localhost:8080/"
        },
        "id": "WmplMPnOKofH",
        "outputId": "507b10b9-03ed-4973-c901-bef318c72134"
      },
      "execution_count": null,
      "outputs": [
        {
          "output_type": "stream",
          "name": "stdout",
          "text": [
            "Original 2D array:\n",
            "[[ 0  1]\n",
            " [ 2  3]\n",
            " [ 4  5]\n",
            " [ 6  7]\n",
            " [ 8  9]\n",
            " [10 11]]\n",
            "\n",
            "Reshaped 3D array:\n",
            "[[[ 0  1]\n",
            "  [ 2  3]\n",
            "  [ 4  5]]\n",
            "\n",
            " [[ 6  7]\n",
            "  [ 8  9]\n",
            "  [10 11]]]\n",
            "\n",
            "Flattened array:\n",
            "[ 0  1  2  3  4  5  6  7  8  9 10 11]\n"
          ]
        }
      ]
    },
    {
      "cell_type": "code",
      "source": [
        "#18th question\n",
        "array_2d = np.array([[1, 2, 3],\n",
        "                     [4, 5, 6],\n",
        "                     [7, 8, 9]])\n",
        "\n",
        "array_1d = np.array([10, 20, 30])\n",
        "\n",
        "result = array_2d + array_1d\n",
        "\n",
        "print(\"Original 3x3 array:\")\n",
        "print(array_2d)\n",
        "\n",
        "print(\"\\n1x3 array to be broadcasted:\")\n",
        "print(array_1d)\n",
        "\n",
        "print(\"\\nResult after broadcasting and addition:\")\n",
        "print(result)"
      ],
      "metadata": {
        "colab": {
          "base_uri": "https://localhost:8080/"
        },
        "id": "dVUfGGC3K9Zc",
        "outputId": "5e67646a-ac3f-4b9b-cdbf-a3345bedaa2b"
      },
      "execution_count": null,
      "outputs": [
        {
          "output_type": "stream",
          "name": "stdout",
          "text": [
            "Original 3x3 array:\n",
            "[[1 2 3]\n",
            " [4 5 6]\n",
            " [7 8 9]]\n",
            "\n",
            "1x3 array to be broadcasted:\n",
            "[10 20 30]\n",
            "\n",
            "Result after broadcasting and addition:\n",
            "[[11 22 33]\n",
            " [14 25 36]\n",
            " [17 28 39]]\n"
          ]
        }
      ]
    },
    {
      "cell_type": "code",
      "source": [
        "#19th question\n",
        "A = np.array([[10, 20, 30], [40, 50, 60], [70, 80, 90]])\n",
        "B = np.array([[1, 2, 3], [4, 5, 6], [7, 8, 9]])\n",
        "\n",
        "add_result = A + B\n",
        "subtract_result = A - B\n",
        "multiply_result = A * B\n",
        "divide_result = A / B\n",
        "\n",
        "print(\"Element-wise Addition:\\n\", add_result)\n",
        "print(\"\\nElement-wise Subtraction:\\n\", subtract_result)\n",
        "print(\"\\nElement-wise Multiplication:\\n\", multiply_result)\n",
        "print(\"\\nElement-wise Division:\\n\", divide_result)"
      ],
      "metadata": {
        "colab": {
          "base_uri": "https://localhost:8080/"
        },
        "id": "XTIR7au_LOBZ",
        "outputId": "927f18b7-dea1-4235-fc00-0441c4ed09e1"
      },
      "execution_count": null,
      "outputs": [
        {
          "output_type": "stream",
          "name": "stdout",
          "text": [
            "Element-wise Addition:\n",
            " [[11 22 33]\n",
            " [44 55 66]\n",
            " [77 88 99]]\n",
            "\n",
            "Element-wise Subtraction:\n",
            " [[ 9 18 27]\n",
            " [36 45 54]\n",
            " [63 72 81]]\n",
            "\n",
            "Element-wise Multiplication:\n",
            " [[ 10  40  90]\n",
            " [160 250 360]\n",
            " [490 640 810]]\n",
            "\n",
            "Element-wise Division:\n",
            " [[10. 10. 10.]\n",
            " [10. 10. 10.]\n",
            " [10. 10. 10.]]\n"
          ]
        }
      ]
    },
    {
      "cell_type": "code",
      "source": [
        "#20th question\n",
        "data = {\n",
        "    'Name': ['Alice', 'Bob', 'Charlie'],\n",
        "    'Course1': [85, 90, 88],\n",
        "    'Course2': [92, 80, 76],\n",
        "    'Course3': [78, 85, 90]\n",
        "}\n",
        "\n",
        "df = pd.DataFrame(data)\n",
        "df['Total'] = df['Course1'] + df['Course2'] + df['Course3']\n",
        "\n",
        "def grade(total):\n",
        "    if total >= 250:\n",
        "        return 'A'\n",
        "    elif total >= 200:\n",
        "        return 'B'\n",
        "    else:\n",
        "        return 'C'\n",
        "\n",
        "df['Grade'] = df['Total'].apply(grade)\n",
        "\n",
        "print(\"\\nUpdated DataFrame with 'Total' and 'Grade':\")\n",
        "print(df)"
      ],
      "metadata": {
        "colab": {
          "base_uri": "https://localhost:8080/"
        },
        "id": "2s_-OSfQLrSW",
        "outputId": "05ddf8da-9e17-4149-bc35-258fb53ace8f"
      },
      "execution_count": null,
      "outputs": [
        {
          "output_type": "stream",
          "name": "stdout",
          "text": [
            "\n",
            "Updated DataFrame with 'Total' and 'Grade':\n",
            "      Name  Course1  Course2  Course3  Total Grade\n",
            "0    Alice       85       92       78    255     A\n",
            "1      Bob       90       80       85    255     A\n",
            "2  Charlie       88       76       90    254     A\n"
          ]
        }
      ]
    },
    {
      "cell_type": "code",
      "source": [],
      "metadata": {
        "id": "O6oh12G-L6kG"
      },
      "execution_count": null,
      "outputs": []
    }
  ]
}